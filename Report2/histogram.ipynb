{
 "cells": [
  {
   "cell_type": "code",
   "execution_count": 4,
   "metadata": {},
   "outputs": [],
   "source": [
    "import cv2\n",
    "import numpy as np\n",
    "from grayscale import readImage"
   ]
  },
  {
   "cell_type": "code",
   "execution_count": 5,
   "metadata": {},
   "outputs": [],
   "source": [
    "def createLUT(win, trackB, trackC, trackHalf, histSize):\n",
    "    trackMax = trackHalf * 2\n",
    "    bright = cv2.getTrackbarPos(trackB, win)\n",
    "    delta = (cv2.getTrackbarPos(trackC, win) - trackHalf) / trackMax\n",
    "    \n",
    "    if delta >= 0:\n",
    "        a = 1.0 / (1.0 - delta)\n",
    "        b = bright - 0.5*a\n",
    "    lookUpTable = np.zeros(histSize, np.uint8)\n",
    "    for i in range(histSize):\n",
    "        newVal = round((a * i / (histSize - 1) + b))\n",
    "        \n",
    "        if newVal < 0:\n",
    "            newVal = 0\n",
    "        if newVal > (histSize - 1):\n",
    "            newVal = histSize - 1\n",
    "        lookUpTable[i] = newVal\n",
    "    return lookUpTable"
   ]
  },
  {
   "cell_type": "code",
   "execution_count": 6,
   "metadata": {},
   "outputs": [],
   "source": [
    "def getHistogram(img, histSize):\n",
    "    histogram = np.zeros(histSize, np.float64)\n",
    "    for row in range(len(img)):\n",
    "        for cal in range(len(img[row])):\n",
    "            histogram[img[row, col]] += 1\n",
    "    return histogram"
   ]
  },
  {
   "cell_type": "code",
   "execution_count": 7,
   "metadata": {},
   "outputs": [],
   "source": [
    "def histImage(histogram):\n",
    "    histSize = histogram.shape[0]\n",
    "    barWidth = 2\n",
    "    histHeight = histSize\n",
    "    histWidth = histSize * barWidth\n",
    "    histogram = histogram * (histHeight/max(histogram))\n",
    "    \n",
    "    for val in range(histSize):\n",
    "        cv2.rectangle(histImg, (val * barWidth, histWidth), ((val+1)*barWidth-1, histHeight-int(histogram[val])), 0)\n",
    "    \n",
    "    return histImg"
   ]
  },
  {
   "cell_type": "code",
   "execution_count": 8,
   "metadata": {},
   "outputs": [],
   "source": [
    "winRes = 'Result'\n",
    "trackB = 'Bright'\n",
    "trackC = 'Contrast'\n",
    "trackHalf = 128"
   ]
  },
  {
   "cell_type": "code",
   "execution_count": 9,
   "metadata": {},
   "outputs": [],
   "source": [
    "def onChange(val):\n",
    "    global gray\n",
    "    histSize = 256\n",
    "    lookUpTable = createLUT(winRes, trackB, trackC, trackHalf, histSize)\n",
    "    \n",
    "    result = np.zeros(gray.shape[:2], np.uint8)\n",
    "    \n",
    "    for row in range(len(result)):\n",
    "        for col in range(len(result[row])):\n",
    "            result[row, col] = lookUpTable[gray[row, col]]\n",
    "    cv2.imshow(winRes, result)\n",
    "    hist = histImage(getHistogram(result, histSize))\n",
    "    cv2.imshow('Histogram', hist)"
   ]
  },
  {
   "cell_type": "code",
   "execution_count": null,
   "metadata": {},
   "outputs": [],
   "source": [
    "def main():\n",
    "    global gray\n",
    "    img = readImage()\n",
    "    gray = cv2.cvtColor(img, cv2.COLOR_BGR2GRAY)\n",
    "    cv2.imshow('Gray', gray)\n",
    "    trackMax = trackHalf * 2\n",
    "    cv2.namedWindow(winRes)\n",
    "    cv2.createTrackbar(trackB, winRes, 0, trackMax, onChange)\n",
    "    \n",
    "    cv2.setTrackbarPos(trackB, winRes, trackHalf)\n",
    "    cv2.createTrackbar(trackB, winRes, 0, trackMax, onChange)\n",
    "    \n",
    "    cv2.setTrackbarPos(trackC, winRes, trackHalf)\n",
    "    onChange(trackHalf)\n",
    "    cv"
   ]
  }
 ],
 "metadata": {
  "kernelspec": {
   "display_name": "Python 3",
   "language": "python",
   "name": "python3"
  },
  "language_info": {
   "codemirror_mode": {
    "name": "ipython",
    "version": 3
   },
   "file_extension": ".py",
   "mimetype": "text/x-python",
   "name": "python",
   "nbconvert_exporter": "python",
   "pygments_lexer": "ipython3",
   "version": "3.7.3"
  }
 },
 "nbformat": 4,
 "nbformat_minor": 4
}
